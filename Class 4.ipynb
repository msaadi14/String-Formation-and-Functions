{
 "cells": [
  {
   "cell_type": "markdown",
   "id": "1cc5305b-6a46-4689-8b0b-820284b3d176",
   "metadata": {},
   "source": [
    "## String Formation"
   ]
  },
  {
   "cell_type": "code",
   "execution_count": 19,
   "id": "691162e0-e657-4dba-b776-9718d00091f9",
   "metadata": {},
   "outputs": [
    {
     "name": "stdout",
     "output_type": "stream",
     "text": [
      "Muhammad \"S\"aadi\n",
      "A/nis;\n"
     ]
    }
   ],
   "source": [
    "name=\"Muhammad \\\"S\\\"aadi\"\n",
    "print(name)\n",
    "fname='A/nis;'\n",
    "print(fname)"
   ]
  },
  {
   "cell_type": "code",
   "execution_count": 21,
   "id": "6df24274-bbd2-433a-94ab-87a6ae882f5b",
   "metadata": {},
   "outputs": [
    {
     "data": {
      "text/plain": [
       "'\\nNED University\\nBatch-3\\n\\nName: Saadi\\nfname:Anis\\nAge:23\\nEducation:BS\\n'"
      ]
     },
     "execution_count": 21,
     "metadata": {},
     "output_type": "execute_result"
    }
   ],
   "source": [
    "card= \"\"\"\n",
    "NED University\n",
    "Batch-3\n",
    "\n",
    "Name: Saadi\n",
    "fname:Anis\n",
    "Age:23\n",
    "Education:BS\n",
    "\"\"\"\n",
    "card\n",
    "#\\n means line changed."
   ]
  },
  {
   "cell_type": "code",
   "execution_count": 23,
   "id": "31001c09-c656-41d2-bece-293cc2056975",
   "metadata": {},
   "outputs": [
    {
     "name": "stdout",
     "output_type": "stream",
     "text": [
      "\n",
      "NED University\n",
      "Batch-3\n",
      "\n",
      "Name: Saadi\n",
      "fname:Anis\n",
      "Age:23\n",
      "Education:BS\n",
      "\n"
     ]
    }
   ],
   "source": [
    "print(card)"
   ]
  },
  {
   "cell_type": "code",
   "execution_count": 35,
   "id": "d455c0f2-0ca1-441e-8e6b-c4484264e235",
   "metadata": {},
   "outputs": [],
   "source": [
    "#When you merge/concetenate two variable the rule is that the left and right side must be of same type or else we will have to do type casting"
   ]
  },
  {
   "cell_type": "code",
   "execution_count": 27,
   "id": "64028706-6e42-4c40-af9c-0964db0c5a0f",
   "metadata": {},
   "outputs": [],
   "source": [
    "name=\"Saadi\"\n",
    "roll_no=17110"
   ]
  },
  {
   "cell_type": "code",
   "execution_count": 29,
   "id": "09a3d216-ede0-4cdc-8d87-c14b9613a8e5",
   "metadata": {},
   "outputs": [
    {
     "ename": "TypeError",
     "evalue": "can only concatenate str (not \"int\") to str",
     "output_type": "error",
     "traceback": [
      "\u001b[1;31m---------------------------------------------------------------------------\u001b[0m",
      "\u001b[1;31mTypeError\u001b[0m                                 Traceback (most recent call last)",
      "Cell \u001b[1;32mIn[29], line 1\u001b[0m\n\u001b[1;32m----> 1\u001b[0m \u001b[38;5;124m\"\u001b[39m\u001b[38;5;124mStudent Name:\u001b[39m\u001b[38;5;124m\"\u001b[39m \u001b[38;5;241m+\u001b[39m name \u001b[38;5;241m+\u001b[39m\u001b[38;5;124m\"\u001b[39m\u001b[38;5;130;01m\\n\u001b[39;00m\u001b[38;5;124m Roll No:\u001b[39m\u001b[38;5;124m\"\u001b[39m \u001b[38;5;241m+\u001b[39m roll_no\n",
      "\u001b[1;31mTypeError\u001b[0m: can only concatenate str (not \"int\") to str"
     ]
    }
   ],
   "source": [
    "\"Student Name:\" + name +\"\\n Roll No:\" + roll_no\n",
    "\n",
    "#roll no is int that is why it is not merging here."
   ]
  },
  {
   "cell_type": "code",
   "execution_count": 31,
   "id": "bdb2e515-b71e-48ad-be3c-2e62552cbd8b",
   "metadata": {},
   "outputs": [
    {
     "data": {
      "text/plain": [
       "'Student Name:Saadi\\n Roll No:17110'"
      ]
     },
     "execution_count": 31,
     "metadata": {},
     "output_type": "execute_result"
    }
   ],
   "source": [
    "\"Student Name:\" + name +\"\\n Roll No:\" + str(roll_no)\n"
   ]
  },
  {
   "cell_type": "code",
   "execution_count": 33,
   "id": "7054e317-efed-426d-a57e-81cae36b01fe",
   "metadata": {},
   "outputs": [
    {
     "name": "stdout",
     "output_type": "stream",
     "text": [
      "Student Name:Saadi\n",
      " Roll No:17110\n"
     ]
    }
   ],
   "source": [
    "print(\"Student Name:\" + name +\"\\n Roll No:\" + str(roll_no))"
   ]
  },
  {
   "cell_type": "code",
   "execution_count": 37,
   "id": "9dd44396-7b0c-4b62-b6c6-f3572e9f6abd",
   "metadata": {},
   "outputs": [],
   "source": [
    "name=\"saadi\"\n",
    "fname=\"Anis\"\n",
    "age=23\n",
    "education=\"BS\""
   ]
  },
  {
   "cell_type": "code",
   "execution_count": 41,
   "id": "e9be2a75-f7a0-490b-8911-cf5766d59c49",
   "metadata": {},
   "outputs": [
    {
     "name": "stdout",
     "output_type": "stream",
     "text": [
      "\n",
      "NED University\n",
      "Batch-3\n",
      "\n",
      "Name: saadi\n",
      "fname:Anis\n",
      "Age:23\n",
      "Education:BS\n",
      "\n"
     ]
    }
   ],
   "source": [
    "card=f\"\"\"\n",
    "NED University\n",
    "Batch-3\n",
    "\n",
    "Name: {name}\n",
    "fname:{fname}\n",
    "Age:{age}\n",
    "Education:{education}\n",
    "\"\"\"\n",
    "print(card)"
   ]
  },
  {
   "cell_type": "code",
   "execution_count": 45,
   "id": "cd380078-1b9a-4bce-b857-6d91a6090019",
   "metadata": {},
   "outputs": [
    {
     "name": "stdout",
     "output_type": "stream",
     "text": [
      "\n",
      "NED University\n",
      "Batch-3\n",
      "\n",
      "Name: Saadi\n",
      "fname:Anis\n",
      "Age:23\n",
      "Education:BS\n",
      "\n"
     ]
    }
   ],
   "source": [
    "def id_card(name,fname,age,education):\n",
    "    card=f\"\"\"\n",
    "NED University\n",
    "Batch-3\n",
    "\n",
    "Name: {name}\n",
    "fname:{fname}\n",
    "Age:{age}\n",
    "Education:{education}\n",
    "\"\"\"\n",
    "    return(card)\n",
    "\n",
    "print(id_card(\"Saadi\",\"Anis\",23,\"BS\"))"
   ]
  },
  {
   "cell_type": "code",
   "execution_count": 53,
   "id": "f87156af-5dca-4d25-a5e2-76e2b18c7277",
   "metadata": {},
   "outputs": [
    {
     "name": "stdout",
     "output_type": "stream",
     "text": [
      "\n",
      "NED University\n",
      "Batch-3\n",
      "\n",
      "Name: 25\n",
      "fname:Hadi\n",
      "Age:MS\n",
      "Education:25\n",
      "\n"
     ]
    }
   ],
   "source": [
    "print(id_card(\"25\",\"Hadi\",\"MS\",25))\n",
    "# Here you can see I have mistakenly putted the wrong value in wrong variable and therefore function prints wrong values."
   ]
  },
  {
   "cell_type": "code",
   "execution_count": 57,
   "id": "6467f5d1-6119-4509-ab8b-f66420dc0614",
   "metadata": {},
   "outputs": [
    {
     "name": "stdout",
     "output_type": "stream",
     "text": [
      "\n",
      "NED University\n",
      "Batch-3\n",
      "\n",
      "Name: Hadi\n",
      "fname:Anis\n",
      "Age:25\n",
      "Education:MS\n",
      "\n"
     ]
    }
   ],
   "source": [
    "print(id_card(fname=\"Anis\",name=\"Hadi\",education=\"MS\",age=25))\n",
    "#Here we have defined the variables so the problem above of putting values in wrong variable doesn't arises."
   ]
  },
  {
   "cell_type": "code",
   "execution_count": 49,
   "id": "7f600f70-80d1-4951-bd5a-3d25fde30bc2",
   "metadata": {},
   "outputs": [
    {
     "data": {
      "text/plain": [
       "'name:123'"
      ]
     },
     "execution_count": 49,
     "metadata": {},
     "output_type": "execute_result"
    }
   ],
   "source": [
    "\"name:\" + str(123)"
   ]
  },
  {
   "cell_type": "code",
   "execution_count": 59,
   "id": "26eceddc-1291-4fd7-9558-2553d496e073",
   "metadata": {},
   "outputs": [
    {
     "name": "stdout",
     "output_type": "stream",
     "text": [
      "1\n",
      "2\n",
      "3\n"
     ]
    }
   ],
   "source": [
    "a,b,c=[1,2,3] #unzip\n",
    "print(a)\n",
    "print(b)\n",
    "print(c)"
   ]
  },
  {
   "cell_type": "code",
   "execution_count": 69,
   "id": "b7f59993-156d-443d-8c0b-1e55b5232878",
   "metadata": {},
   "outputs": [
    {
     "name": "stdout",
     "output_type": "stream",
     "text": [
      "\n",
      "NED University\n",
      "Batch-3\n",
      "\n",
      "Name: Saadi\n",
      "fname:Anis\n",
      "Age:23\n",
      "Education:MSDS\n",
      "\n",
      "\n",
      "NED University\n",
      "Batch-3\n",
      "\n",
      "Name: Haider\n",
      "fname:Haroon\n",
      "Age:23\n",
      "Education:MS\n",
      "\n"
     ]
    }
   ],
   "source": [
    "s1={\"education\": \"MSDS\",\n",
    "    \"name\": \"Saadi\",\n",
    "    \"fname\": \"Anis\",\n",
    "    \"age\":23}\n",
    "print(id_card(**s1))\n",
    "\n",
    "# You can call the key values of dictionary using ** but the only condition is that the key name should be exactly same as the arguments given in the function.\n",
    "print(id_card(name=\"Haider\", fname=\"Haroon\", age=23,education= \"MS\"))\n",
    "# You can do this or you can even pass index value for any variable in the arguments."
   ]
  },
  {
   "cell_type": "code",
   "execution_count": 77,
   "id": "b1d733fb-ac23-4d90-bd04-c2ee425f4114",
   "metadata": {},
   "outputs": [
    {
     "name": "stdout",
     "output_type": "stream",
     "text": [
      "\n",
      "NED University\n",
      "Batch-3\n",
      "\n",
      "Name: Ali\n",
      "fname:Haroon\n",
      "Age:29\n",
      "Education:BS\n",
      "\n"
     ]
    }
   ],
   "source": [
    "a=[\"Ali\",\"Haroon\",29,\"BS\"]\n",
    "print(id_card(a[0],a[1],a[2],a[3]))\n",
    "# You can even call the index values like here."
   ]
  },
  {
   "cell_type": "code",
   "execution_count": 79,
   "id": "b436f447-8284-49f0-9348-f7c0616dbee0",
   "metadata": {},
   "outputs": [
    {
     "name": "stdout",
     "output_type": "stream",
     "text": [
      "\n",
      "NED University\n",
      "Batch-3\n",
      "\n",
      "Name: Ali\n",
      "fname:Jawed\n",
      "Age:32\n",
      "Education:MBBS\n",
      "\n"
     ]
    }
   ],
   "source": [
    "s2=[\"Ali\",\"Jawed\",32,\"MBBS\"]\n",
    "print(id_card(*s2))\n",
    "# Single * takes out values from list and double * takes out key values from dictionary provided that key name must be exactly same as name of function arguments."
   ]
  },
  {
   "cell_type": "code",
   "execution_count": 85,
   "id": "b1e5dad6-f322-453d-83e2-74c90494c871",
   "metadata": {},
   "outputs": [
    {
     "name": "stdout",
     "output_type": "stream",
     "text": [
      "100 200 (1, 2, 3, 4, 5)\n"
     ]
    }
   ],
   "source": [
    "def my_num(num1,num2,*num):\n",
    "    print(num1,num2,num)\n",
    "\n",
    "my_num(100,200,1,2,3,4,5)\n",
    "# Putting single * will make the values tupal but remember that num is nothing but just the body of function. You can't have these tupal data outside function to perform other functions/operations on it."
   ]
  },
  {
   "cell_type": "code",
   "execution_count": 99,
   "id": "d433b812-887e-4084-8fd4-b2579d9d3f95",
   "metadata": {},
   "outputs": [
    {
     "name": "stdout",
     "output_type": "stream",
     "text": [
      "100 200 {'num3': 1, 'num4': 2, 'num5': 3}\n"
     ]
    }
   ],
   "source": [
    "def my_sum(num1,num2,**num):\n",
    "    print(num1,num2,num)\n",
    "\n",
    "my_sum(100,200, num3=1, num4=2, num5=3)"
   ]
  },
  {
   "cell_type": "code",
   "execution_count": 101,
   "id": "75db5289-93a0-468f-9a50-58148325c0ec",
   "metadata": {},
   "outputs": [
    {
     "name": "stdout",
     "output_type": "stream",
     "text": [
      "100 200 (1, 2, 3, 4, 5)\n",
      "315\n"
     ]
    }
   ],
   "source": [
    "def my_num(num1,num2,*num):\n",
    "    print(num1,num2,num)\n",
    "    print(num1+num2+sum(num))\n",
    "\n",
    "my_num(100,200,1,2,3,4,5)"
   ]
  },
  {
   "cell_type": "code",
   "execution_count": 109,
   "id": "8f3f2a87-a5d2-460c-971e-238373fd7169",
   "metadata": {},
   "outputs": [
    {
     "name": "stdout",
     "output_type": "stream",
     "text": [
      "300\n"
     ]
    },
    {
     "data": {
      "text/plain": [
       "315"
      ]
     },
     "execution_count": 109,
     "metadata": {},
     "output_type": "execute_result"
    }
   ],
   "source": [
    "def my_sum(num1,num2,*num):\n",
    "    print(num1+num2)\n",
    "    output=num1+num2\n",
    "    for n in num:\n",
    "        output+=n\n",
    "    return(output)\n",
    "\n",
    "my_sum(100,200,1,2,3,4,5) # this is return function and can be stored in a variable as can be seen below."
   ]
  },
  {
   "cell_type": "code",
   "execution_count": 105,
   "id": "7062b7f5-3001-4a74-9f12-1c0a571bb648",
   "metadata": {},
   "outputs": [
    {
     "name": "stdout",
     "output_type": "stream",
     "text": [
      "500\n",
      "725\n"
     ]
    }
   ],
   "source": [
    "a=my_sum(200,300,50,75,100)\n",
    "print(a)"
   ]
  },
  {
   "cell_type": "code",
   "execution_count": 117,
   "id": "3c365d56-3b68-4dbe-a56c-212cf067ba9e",
   "metadata": {},
   "outputs": [
    {
     "data": {
      "text/plain": [
       "315"
      ]
     },
     "execution_count": 117,
     "metadata": {},
     "output_type": "execute_result"
    }
   ],
   "source": [
    "def my_sum(num1,num2,**num):\n",
    "    #rint(num1+num2)\n",
    "    output=num1+num2\n",
    "    for n in num.values():\n",
    "        if type(n) is type(1):\n",
    "            output+=n\n",
    "            \n",
    "    return(output)\n",
    "\n",
    "my_sum(100,200, num3=1,num4=2,num5=3,num6=4,num7=5,num8=\"abc\")"
   ]
  },
  {
   "cell_type": "code",
   "execution_count": 135,
   "id": "009c00df-7f1d-421b-b3b7-f0288a386036",
   "metadata": {},
   "outputs": [
    {
     "name": "stdout",
     "output_type": "stream",
     "text": [
      "[1, 2, 3, 4]\n",
      "10\n",
      "[5, 6, 7, 8]\n",
      "26\n",
      "[9, 10, 11, 12]\n",
      "42\n"
     ]
    }
   ],
   "source": [
    "data=[[1,2,3,4],[5,6,7,8],[9,10,11,12]]\n",
    "\n",
    "def add_num(num1,num2,*num):\n",
    "    return(num1+num2+sum(num))\n",
    "\n",
    "for row in data:\n",
    "    print(row)\n",
    "    print(add_num(*row))\n"
   ]
  },
  {
   "cell_type": "code",
   "execution_count": 139,
   "id": "620a4ce8-c643-4832-b468-da91bd354d86",
   "metadata": {},
   "outputs": [
    {
     "name": "stdout",
     "output_type": "stream",
     "text": [
      "10\n",
      "26\n",
      "42\n"
     ]
    }
   ],
   "source": [
    "for row in data:\n",
    "    print(add_num(*row))\n",
    "\n",
    "# Here see line by line first list 1 will go in row and it's sum will be prited through function then loop will run again and list 2 will go in row and so on until number of lists finsihes in data variable."
   ]
  },
  {
   "cell_type": "code",
   "execution_count": 141,
   "id": "ada208db-ffb6-4f4b-a0a8-0eba508f9189",
   "metadata": {},
   "outputs": [
    {
     "name": "stdout",
     "output_type": "stream",
     "text": [
      "1\n",
      "2\n",
      "3\n",
      "4\n",
      "5\n"
     ]
    }
   ],
   "source": [
    "def my_range(s,e):\n",
    "    for i in range(s,e+1):\n",
    "        print(i)\n",
    "my_range(1,5)\n",
    "# e+1 is used because we want the last value included as well."
   ]
  },
  {
   "cell_type": "code",
   "execution_count": 143,
   "id": "1a2719c2-0a95-4003-9f31-7727d36252e5",
   "metadata": {},
   "outputs": [],
   "source": [
    "# Generator function runs one by one using next keyword."
   ]
  },
  {
   "cell_type": "code",
   "execution_count": 169,
   "id": "3930731d-d993-4706-8af7-7bd7ade5ac8e",
   "metadata": {},
   "outputs": [
    {
     "name": "stdout",
     "output_type": "stream",
     "text": [
      "<generator object my_range at 0x000002057B37EF80>\n",
      "1\n",
      "2\n",
      "3\n",
      "4\n",
      "5\n"
     ]
    },
    {
     "ename": "StopIteration",
     "evalue": "",
     "output_type": "error",
     "traceback": [
      "\u001b[1;31m---------------------------------------------------------------------------\u001b[0m",
      "\u001b[1;31mStopIteration\u001b[0m                             Traceback (most recent call last)",
      "Cell \u001b[1;32mIn[169], line 11\u001b[0m\n\u001b[0;32m      9\u001b[0m \u001b[38;5;28mprint\u001b[39m(\u001b[38;5;28mnext\u001b[39m(a))\n\u001b[0;32m     10\u001b[0m \u001b[38;5;28mprint\u001b[39m(\u001b[38;5;28mnext\u001b[39m(a))\n\u001b[1;32m---> 11\u001b[0m \u001b[38;5;28mprint\u001b[39m(\u001b[38;5;28mnext\u001b[39m(a))\n\u001b[0;32m     12\u001b[0m \u001b[38;5;28mprint\u001b[39m(\u001b[38;5;28mnext\u001b[39m(a))\n",
      "\u001b[1;31mStopIteration\u001b[0m: "
     ]
    }
   ],
   "source": [
    "def my_range(s,e):\n",
    "    for i in range(s,e+1):\n",
    "        yield(i) # Instead of return we use yield key word in generator function.\n",
    "a=my_range(1,5)\n",
    "print(a)\n",
    "print(next(a)) # We use next keyword to generate values one by one.\n",
    "print(next(a))\n",
    "print(next(a))\n",
    "print(next(a))\n",
    "print(next(a))\n",
    "print(next(a))\n",
    "print(next(a)) # It will print till 5 only."
   ]
  },
  {
   "cell_type": "code",
   "execution_count": null,
   "id": "9d8264cb-efd5-4771-812a-b3e3f329e54f",
   "metadata": {},
   "outputs": [],
   "source": [
    "# recursive function calls itself in its body. It works like a loop."
   ]
  },
  {
   "cell_type": "code",
   "execution_count": 185,
   "id": "0725bf72-1de9-43ea-aa9e-b30a24b2b8c3",
   "metadata": {},
   "outputs": [
    {
     "data": {
      "text/plain": [
       "15"
      ]
     },
     "execution_count": 185,
     "metadata": {},
     "output_type": "execute_result"
    }
   ],
   "source": [
    "def abc(n):\n",
    "    if n==0:\n",
    "        return n # this is important otherwise recursive function since it is like a loop will keep running so it is important to make it stop. We can't use break here since break and continue are only keywords to stop loop not functions.\n",
    "    return n+abc(n-1)\n",
    "    # see that here first 5+(5-1)+(4-1)+....(2-1)+(1-1)\n",
    "\n",
    "abc(5)\n",
    "#[5,4,3,2,1]"
   ]
  },
  {
   "cell_type": "code",
   "execution_count": 187,
   "id": "7e730b15-5647-4cb9-88e3-fbedb6039821",
   "metadata": {},
   "outputs": [],
   "source": [
    "# Lamba function: No name function, one line function and will not be used before and after."
   ]
  },
  {
   "cell_type": "code",
   "execution_count": 201,
   "id": "81579d61-88b7-45ee-a2c1-6a44c05f82e9",
   "metadata": {},
   "outputs": [
    {
     "data": {
      "text/plain": [
       "15"
      ]
     },
     "execution_count": 201,
     "metadata": {},
     "output_type": "execute_result"
    }
   ],
   "source": [
    "#def abc(num1,num2):\n",
    "#    return(num1+num2) I will convert this function into lambda function.\n",
    "\n",
    "a=lambda num1,num2:num1+num2 # no function name, no return keyword, single line function.\n",
    "a(7,8) # this function will not be stored on backend and will be runned here only when you run it."
   ]
  },
  {
   "cell_type": "code",
   "execution_count": 197,
   "id": "6ef710b6-98ce-44ae-b994-9ab8c47df5f0",
   "metadata": {},
   "outputs": [
    {
     "data": {
      "text/plain": [
       "15"
      ]
     },
     "execution_count": 197,
     "metadata": {},
     "output_type": "execute_result"
    }
   ],
   "source": [
    "a(7,8)"
   ]
  },
  {
   "cell_type": "code",
   "execution_count": 225,
   "id": "b5fc9b60-58e5-4e5f-a8a9-1fb4511c7484",
   "metadata": {},
   "outputs": [],
   "source": [
    "# lambda function is used in different roles."
   ]
  },
  {
   "cell_type": "code",
   "execution_count": 209,
   "id": "86842525-0ab1-4e69-b9ee-d5a088ad94e9",
   "metadata": {},
   "outputs": [
    {
     "data": {
      "text/plain": [
       "[[3, 'X'], [2, 'Y'], [1, 'Z']]"
      ]
     },
     "execution_count": 209,
     "metadata": {},
     "output_type": "execute_result"
    }
   ],
   "source": [
    "data=[[1,\"Z\"],\n",
    "      [2,\"Y\"],\n",
    "      [3,\"X\"]]\n",
    "data.sort(key=lambda x:x[1]) # Data sorted based on index value of [1] so sorting based on x,y,z.\n",
    "data"
   ]
  },
  {
   "cell_type": "code",
   "execution_count": 215,
   "id": "6824c86b-e427-463b-ba5a-9e5f6defbc0a",
   "metadata": {},
   "outputs": [
    {
     "data": {
      "text/plain": [
       "[[3, 'X'], [2, 'Y'], [1, 'Z']]"
      ]
     },
     "execution_count": 215,
     "metadata": {},
     "output_type": "execute_result"
    }
   ],
   "source": [
    "data=[[1,\"Z\"],\n",
    "      [2,\"Y\"],\n",
    "      [3,\"X\"]]\n",
    "data.sort(key=lambda x:x[0],reverse=True)\n",
    "data"
   ]
  },
  {
   "cell_type": "code",
   "execution_count": 223,
   "id": "9bcea96c-f8a4-43de-b6da-fee3991b19cf",
   "metadata": {},
   "outputs": [
    {
     "data": {
      "text/plain": [
       "[('apple', 3), ('baby', 2), ('candy', 1)]"
      ]
     },
     "execution_count": 223,
     "metadata": {},
     "output_type": "execute_result"
    }
   ],
   "source": [
    "list=[(\"candy\",1),(\"baby\",2),(\"apple\",3)]\n",
    "list.sort(key=lambda x:x[0],reverse=False)\n",
    "list"
   ]
  },
  {
   "cell_type": "code",
   "execution_count": 15,
   "id": "9def1985-1369-4bcc-9c0f-4a9b588f681b",
   "metadata": {},
   "outputs": [
    {
     "name": "stdout",
     "output_type": "stream",
     "text": [
      "[6, 7, 8, 9]\n"
     ]
    }
   ],
   "source": [
    "l = [1, 2, 3, 4]\n",
    "\n",
    "result = list(map(lambda x: x + 5, l))\n",
    "print(result)\n",
    "\n",
    "# map is an iterable function. That means if you have to  pass a list as an argument in a function then you will always have to use map but remember that since map is iterable function you will get the result when you use list function with map function to print the values."
   ]
  },
  {
   "cell_type": "code",
   "execution_count": 13,
   "id": "84ac4c9d-1ade-452c-b01d-354e8922dc51",
   "metadata": {},
   "outputs": [
    {
     "data": {
      "text/plain": [
       "[10, 11, 12, 13]"
      ]
     },
     "execution_count": 13,
     "metadata": {},
     "output_type": "execute_result"
    }
   ],
   "source": [
    "k=[5,6,7,8]\n",
    "\n",
    "def abc(x):\n",
    "    return x+5\n",
    "\n",
    "a=list(map(abc,k)) # map function being used to pass list as argument in function and it is used with list function.\n",
    "a\n",
    "#map function wants a function from you and is an iteration which means it unpacks the list and then put in values from list one by one in the function to give result."
   ]
  },
  {
   "cell_type": "code",
   "execution_count": 29,
   "id": "8f429ea3-d0a0-4827-9e81-eded7adc6d70",
   "metadata": {},
   "outputs": [
    {
     "name": "stdout",
     "output_type": "stream",
     "text": [
      "12\n",
      "13\n",
      "14\n",
      "15\n"
     ]
    }
   ],
   "source": [
    "j=[7,8,9,10]\n",
    "\n",
    "def abc(x):\n",
    "    return x+5\n",
    "for i in j:\n",
    "    print(abc(i))\n",
    "# You can use for loop for iteration i.e unpacking the list as well. Loop and functions are not runned toghether which is why we first wrote function and used for loop to unpack list and then run the function with unpacked list."
   ]
  },
  {
   "cell_type": "code",
   "execution_count": 33,
   "id": "d3b040bc-5cbd-4654-a679-72f5a99ee645",
   "metadata": {},
   "outputs": [
    {
     "name": "stdout",
     "output_type": "stream",
     "text": [
      "6\n",
      "7\n",
      "8\n",
      "9\n"
     ]
    }
   ],
   "source": [
    "k=[1,2,3,4]\n",
    "a=lambda x:x+5\n",
    "for i in k:\n",
    "    print(a(i))"
   ]
  },
  {
   "cell_type": "code",
   "execution_count": 35,
   "id": "16889bb0-0ba6-45c2-b18d-74396ba28e8c",
   "metadata": {},
   "outputs": [],
   "source": [
    "#filter function is another iteration function."
   ]
  },
  {
   "cell_type": "code",
   "execution_count": 37,
   "id": "9257c311-641b-4dd6-9a2c-d2be4f65b8b0",
   "metadata": {},
   "outputs": [
    {
     "data": {
      "text/plain": [
       "[20, 30, 50]"
      ]
     },
     "execution_count": 37,
     "metadata": {},
     "output_type": "execute_result"
    }
   ],
   "source": [
    "l=[20,27,30,50]\n",
    "\n",
    "def abc(x):\n",
    "    if x%2==0:\n",
    "        return x\n",
    "list(filter(abc,l))"
   ]
  },
  {
   "cell_type": "code",
   "execution_count": 73,
   "id": "4ec64172-12a9-4df9-8c8c-05fecbd4ac1e",
   "metadata": {},
   "outputs": [
    {
     "name": "stdout",
     "output_type": "stream",
     "text": [
      "\n",
      "    Name:saadi\n",
      "    Father Name:Anis\n",
      "    Age:23\n",
      "    \n",
      "\n",
      "    Name:osama\n",
      "    Father Name:saeed\n",
      "    Age:21\n",
      "    \n",
      "\n",
      "    Name:emmad\n",
      "    Father Name:sherry\n",
      "    Age:27\n",
      "    \n"
     ]
    }
   ],
   "source": [
    "data=[{\"name\":\"saadi\",\"fname\":\"Anis\",\"age\":23},{\"name\":\"osama\",\"fname\":\"saeed\",\"age\":21},{\"name\":\"emmad\",\"fname\":\"sherry\",\"age\":27}]\n",
    "\n",
    "def id_card(name,fname,age):\n",
    "    card=f\"\"\"\n",
    "    Name:{name}\n",
    "    Father Name:{fname}\n",
    "    Age:{age}\n",
    "    \"\"\"\n",
    "    return (card)\n",
    "\n",
    "for i in data:\n",
    "    print(id_card(**i))\n",
    "    "
   ]
  },
  {
   "cell_type": "code",
   "execution_count": 93,
   "id": "be9697d5-04ee-465e-8335-1fe9b5d8b6fc",
   "metadata": {},
   "outputs": [
    {
     "name": "stdout",
     "output_type": "stream",
     "text": [
      "\n",
      "    Name:saadi\n",
      "    Father Name:Anis\n",
      "    Age:23\n",
      "    \n",
      "    Name:osama\n",
      "    Father Name:saeed\n",
      "    Age:21\n",
      "    \n",
      "    Name:emmad\n",
      "    Father Name:sherry\n",
      "    Age:27\n",
      "    \n"
     ]
    }
   ],
   "source": [
    "data=[{\"name\":\"saadi\",\"fname\":\"Anis\",\"age\":23},{\"name\":\"osama\",\"fname\":\"saeed\",\"age\":21},{\"name\":\"emmad\",\"fname\":\"sherry\",\"age\":27}]\n",
    "def id_card(name,fname,age):\n",
    "    card=f\"\"\"\n",
    "    Name:{name}\n",
    "    Father Name:{fname}\n",
    "    Age:{age}\n",
    "    \"\"\"\n",
    "    return (card)\n",
    "\n",
    "a=list(map(lambda b:id_card(b[\"name\"],b[\"fname\"],b[\"age\"]),data))\n",
    "print(\"\".join(a))\n",
    "\n",
    "# Used chat gpt for this one."
   ]
  }
 ],
 "metadata": {
  "kernelspec": {
   "display_name": "Python [conda env:base] *",
   "language": "python",
   "name": "conda-base-py"
  },
  "language_info": {
   "codemirror_mode": {
    "name": "ipython",
    "version": 3
   },
   "file_extension": ".py",
   "mimetype": "text/x-python",
   "name": "python",
   "nbconvert_exporter": "python",
   "pygments_lexer": "ipython3",
   "version": "3.12.7"
  }
 },
 "nbformat": 4,
 "nbformat_minor": 5
}
